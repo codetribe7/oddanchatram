{
 "cells": [
  {
   "cell_type": "code",
   "execution_count": 13,
   "metadata": {},
   "outputs": [
    {
     "name": "stdout",
     "output_type": "stream",
     "text": [
      "['dindigul', 'market', 'vegetable', 'price', 'details', '01012014']\n",
      "['dindigul', 'market', 'vegetable', 'price', 'details', '01012014']\n",
      "['dindigul', 'market', 'vegetable', 'price', 'details', '01012014']\n"
     ]
    }
   ],
   "source": [
    "import pandas as pd\n",
    "import numpy as np\n",
    "\n",
    "\n",
    "df = pd.read_csv('dindigul-market-vegetable-price-details-01012014.csv')\n",
    "a='dindigul-market-vegetable-price-details-01012014.csv'\n",
    "sep = '.,-'\n",
    "for i in sep:\n",
    "\tfile_name_split = (a.split('.'))\n",
    "\tfile_name_without_ext = (file_name_split[0])\n",
    "\tspliting_filename = (file_name_without_ext.split('-'))\n",
    "\tprint(spliting_filename)\n",
    "date = spliting_filename[-1]\n",
    "if(date[-8] == '0'):\n",
    "    year = date[-4: ]\n",
    "    month = date[2:4]\n",
    "    day = date[:2]\n",
    "date_of_purchase = year + '-' + month + '-' + day\n",
    "df['date_of_purchase'] = date_of_purchase\n",
    "df.to_csv('dindigul-market-vegetable-price-details-01012014.csv')"
   ]
  },
  {
   "cell_type": "code",
   "execution_count": null,
   "metadata": {},
   "outputs": [],
   "source": []
  }
 ],
 "metadata": {
  "kernelspec": {
   "display_name": "Python 3",
   "language": "python",
   "name": "python3"
  },
  "language_info": {
   "codemirror_mode": {
    "name": "ipython",
    "version": 3
   },
   "file_extension": ".py",
   "mimetype": "text/x-python",
   "name": "python",
   "nbconvert_exporter": "python",
   "pygments_lexer": "ipython3",
   "version": "3.6.4"
  }
 },
 "nbformat": 4,
 "nbformat_minor": 2
}

{
 "cells": [
  {
   "cell_type": "code",
   "execution_count": 26,
   "metadata": {},
   "outputs": [
    {
     "name": "stdout",
     "output_type": "stream",
     "text": [
      "21 03 2013\n"
     ]
    }
   ],
   "source": [
    "import pandas as pd\n",
    "import numpy as np\n",
    "import os\n",
    "\n",
    "df = pd.read_csv('21th-march-2013-oddanchatram-vegetable-market-price-details.csv')\n",
    "a = '21th-march-2013-oddanchatram-vegetable-market-price-details.csv'\n",
    "sep = '.,-'\n",
    "for i in sep:\n",
    "    file_name_split = (a.split('.'))\n",
    "    file_name_without_ext = (file_name_split[0])\n",
    "    spliting_filename = (file_name_without_ext.split('-'))\n",
    "date = spliting_filename[0]\n",
    "day = date[0:2]\n",
    "months = {'january':'01','february':'02','march':'03','april':'04','may':'05','june':'06','july':'07','august':'08','september':'09','october':'10','november':'11','december':'12'}\n",
    "month = months[spliting_filename[1]]\n",
    "year = spliting_filename[2]\n",
    "date_of_purchase = year + '-' + month + '-' + day\n",
    "df['date_of_purchase'] = date_of_purchase\n",
    "df.to_csv('21th-march-2013-oddanchatram-vegetable-market-price-details.csv')\n",
    "    "
   ]
  },
  {
   "cell_type": "code",
   "execution_count": null,
   "metadata": {},
   "outputs": [],
   "source": []
  }
 ],
 "metadata": {
  "kernelspec": {
   "display_name": "Python 3",
   "language": "python",
   "name": "python3"
  },
  "language_info": {
   "codemirror_mode": {
    "name": "ipython",
    "version": 3
   },
   "file_extension": ".py",
   "mimetype": "text/x-python",
   "name": "python",
   "nbconvert_exporter": "python",
   "pygments_lexer": "ipython3",
   "version": "3.6.4"
  }
 },
 "nbformat": 4,
 "nbformat_minor": 2
}

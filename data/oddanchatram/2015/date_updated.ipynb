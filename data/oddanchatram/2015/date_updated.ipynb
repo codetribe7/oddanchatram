{
 "cells": [
  {
   "cell_type": "code",
   "execution_count": 1,
   "metadata": {},
   "outputs": [],
   "source": [
    "import pandas as pd\n",
    "import numpy as np\n",
    "import os\n",
    "\n",
    "\n",
    "def add_date(filename):\n",
    "    df = pd.read_csv(filename)\n",
    "    a=filename\n",
    "    sep = '.,-'\n",
    "    for i in sep:\n",
    "        file_name_split = (a.split('.'))\n",
    "        file_name_without_ext = (file_name_split[0])\n",
    "        spliting_filename = (file_name_without_ext.split('-'))\n",
    "    date = spliting_filename[-1]\n",
    "    if (len(date) == 4):\n",
    "        year = spliting_filename[-1]\n",
    "        month = spliting_filename[-2]\n",
    "        day = spliting_filename[-3]\n",
    "        date_of_purchase = year + '-' + month + '-' + day\n",
    "        df['date_of_purchase'] = date_of_purchase\n",
    "        df.to_csv(filename)\n",
    "        return;\n",
    "    elif (len(date) > 4):\n",
    "        #date is extracted from the file\n",
    "        date_int = int(date)\n",
    "        n = date_int\n",
    "        count = 0\n",
    "        while(n != 0):\n",
    "            n //= 10\n",
    "            count = count+1\n",
    "            #it is used to find the number of digitd in date\n",
    "        year = str(date_int%10000) # to fint out year\n",
    "        date_pur = date_int//10000\n",
    "        if (count-4) <= 2:\n",
    "            month = date_pur%10\n",
    "            while(month >= 11):\n",
    "                month = month%10\n",
    "                day = date_pur//10\n",
    "                date_of_purchase = year + '-' + str(month) + '-' +str(day)\n",
    "                df['date_of_purchase'] = date_of_purchase\n",
    "                df.to_csv(filename)\n",
    "                break\n",
    "            day = date_pur//10\n",
    "            date_of_purchase = year + '- ' + str(month) + '-' + str(day)\n",
    "            df['date_of_purchase'] = date_of_purchase\n",
    "            df.to_csv(filename)\n",
    "        elif(count-4) <= 3:\n",
    "            month = date_pur%100\n",
    "            while(month >= 13):\n",
    "                month = month%10\n",
    "                day = date_pur//10\n",
    "                date_of_purchase = year + '-' + str(month) + '-' + str(day)\n",
    "                df['date_of_purchase'] = date_of_purchase\n",
    "                df.to_csv(filename)\n",
    "                break\n",
    "            day = date_pur//100\n",
    "            date_of_purchase = year + '-' + str(month) + '-' + str(day)\n",
    "            df['date_of_purchase'] = date_of_purchase\n",
    "            df.to_csv(filename)\n",
    "        elif(count-4) <= 4:\n",
    "            month = date_pur%100\n",
    "            while(month >= 13):\n",
    "                month = month%10\n",
    "                day = date_pur//10\n",
    "                date_of_purchase = year + '-' + str(month) + '-' + str(day)\n",
    "                df['date_of_purchase'] = date_of_purchase\n",
    "                df.to_csv(filename)\n",
    "                break\n",
    "            day = date_pur//100\n",
    "            date_of_purchase = year + '-' + str(month) + '-' + str(day)\n",
    "            df['date_of_purchase'] = date_of_purchase\n",
    "            df.to_csv(filename)\n",
    "        return;\n",
    "    \n"
   ]
  },
  {
   "cell_type": "code",
   "execution_count": 2,
   "metadata": {},
   "outputs": [],
   "source": [
    "success = []\n",
    "failed = []\n",
    "\n",
    "s=os.listdir('/home/bala/folder/New/2015')\n",
    "for i in s:\n",
    "    try:\n",
    "        add_date(i)\n",
    "        success.append(i)\n",
    "    except:\n",
    "        failed.append(i)\n",
    "     "
   ]
  },
  {
   "cell_type": "code",
   "execution_count": 3,
   "metadata": {},
   "outputs": [
    {
     "data": {
      "text/plain": [
       "['date_updated.ipynb', '.ipynb_checkpoints']"
      ]
     },
     "execution_count": 3,
     "metadata": {},
     "output_type": "execute_result"
    }
   ],
   "source": [
    "failed"
   ]
  },
  {
   "cell_type": "code",
   "execution_count": null,
   "metadata": {},
   "outputs": [],
   "source": []
  }
 ],
 "metadata": {
  "kernelspec": {
   "display_name": "Python 3",
   "language": "python",
   "name": "python3"
  },
  "language_info": {
   "codemirror_mode": {
    "name": "ipython",
    "version": 3
   },
   "file_extension": ".py",
   "mimetype": "text/x-python",
   "name": "python",
   "nbconvert_exporter": "python",
   "pygments_lexer": "ipython3",
   "version": "3.6.4"
  }
 },
 "nbformat": 4,
 "nbformat_minor": 2
}
